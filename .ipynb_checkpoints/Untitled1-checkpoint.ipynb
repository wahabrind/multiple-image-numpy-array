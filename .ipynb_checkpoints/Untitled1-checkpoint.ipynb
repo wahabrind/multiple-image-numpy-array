{
 "cells": [
  {
   "cell_type": "code",
   "execution_count": null,
   "metadata": {},
   "outputs": [],
   "source": [
    "import requests\n",
    "def userinput():\n",
    "    inp=int(input('Enter a year:'))\n",
    "    return inp\n",
    "def main():\n",
    "    try:\n",
    "        a=userinput()\n",
    "        int(a)\n",
    "        url='http://numbersapi.com/'+str(userinput())+'/year?json'\n",
    "        respond=requests.get(url)\n",
    "        print(respond)\n",
    "        data=respond.json()\n",
    "        print(data)\n",
    "    except:\n",
    "        print('Please enter a integer. /n Try again')\n",
    "if __name__=='__main__':\n",
    "    main()"
   ]
  }
 ],
 "metadata": {
  "kernelspec": {
   "display_name": "Python 3",
   "language": "python",
   "name": "python3"
  },
  "language_info": {
   "codemirror_mode": {
    "name": "ipython",
    "version": 3
   },
   "file_extension": ".py",
   "mimetype": "text/x-python",
   "name": "python",
   "nbconvert_exporter": "python",
   "pygments_lexer": "ipython3",
   "version": "3.7.1"
  }
 },
 "nbformat": 4,
 "nbformat_minor": 2
}
