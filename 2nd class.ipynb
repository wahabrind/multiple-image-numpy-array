{
 "cells": [
  {
   "cell_type": "code",
   "execution_count": 9,
   "metadata": {},
   "outputs": [
    {
     "data": {
      "text/plain": [
       "array([  7, 440,  32,  24,  46,  56])"
      ]
     },
     "execution_count": 9,
     "metadata": {},
     "output_type": "execute_result"
    }
   ],
   "source": [
    "import numpy as np\n",
    "a=np.array([4,5,6,7,8,8])\n",
    "b=np.array([3,435,26,17,38,48])\n",
    "np.add(a,b)\n"
   ]
  },
  {
   "cell_type": "code",
   "execution_count": 59,
   "metadata": {},
   "outputs": [
    {
     "name": "stdout",
     "output_type": "stream",
     "text": [
      "library\n",
      "Python\n",
      "programming\n",
      "language,\n",
      "adding\n",
      "support\n",
      "large,\n",
      "multi-dimensional\n",
      "arrays\n",
      "matrices,\n",
      "collection\n",
      "high-level\n",
      "mathematical\n",
      "functions\n",
      "operate\n",
      "arrays.\n"
     ]
    }
   ],
   "source": [
    "text='NumPy is a library for the Python programming language, adding support for large, multi-dimensional arrays and matrices, along with a large collection of high-level mathematical functions to operate on these arrays.'\n",
    "l=text.split(\" \")\n",
    "arr=np.array(text.split(\" \"))\n",
    "\n"
   ]
  },
  {
   "cell_type": "code",
   "execution_count": 22,
   "metadata": {},
   "outputs": [
    {
     "data": {
      "text/plain": [
       "array([[ 1,  4,  9],\n",
       "       [ 4, 10, 18]])"
      ]
     },
     "execution_count": 22,
     "metadata": {},
     "output_type": "execute_result"
    }
   ],
   "source": [
    "arr1=np.array([[1,2,3],[4,5,6]])\n",
    "arr2=np.array([1,2,3])\n",
    "arr3=arr1*arr2\n",
    "arr3\n"
   ]
  },
  {
   "cell_type": "code",
   "execution_count": 25,
   "metadata": {},
   "outputs": [
    {
     "ename": "ValueError",
     "evalue": "operands could not be broadcast together with shapes (2,4) (2,) ",
     "output_type": "error",
     "traceback": [
      "\u001b[1;31m---------------------------------------------------------------------------\u001b[0m",
      "\u001b[1;31mValueError\u001b[0m                                Traceback (most recent call last)",
      "\u001b[1;32m<ipython-input-25-033c3ec429d0>\u001b[0m in \u001b[0;36m<module>\u001b[1;34m\u001b[0m\n\u001b[0;32m      1\u001b[0m \u001b[0marr1\u001b[0m\u001b[1;33m=\u001b[0m\u001b[0mnp\u001b[0m\u001b[1;33m.\u001b[0m\u001b[0marray\u001b[0m\u001b[1;33m(\u001b[0m\u001b[1;33m[\u001b[0m\u001b[1;33m[\u001b[0m\u001b[1;36m1\u001b[0m\u001b[1;33m,\u001b[0m\u001b[1;36m2\u001b[0m\u001b[1;33m,\u001b[0m\u001b[1;36m3\u001b[0m\u001b[1;33m,\u001b[0m\u001b[1;36m4\u001b[0m\u001b[1;33m]\u001b[0m\u001b[1;33m,\u001b[0m\u001b[1;33m[\u001b[0m\u001b[1;36m4\u001b[0m\u001b[1;33m,\u001b[0m\u001b[1;36m5\u001b[0m\u001b[1;33m,\u001b[0m\u001b[1;36m6\u001b[0m\u001b[1;33m,\u001b[0m\u001b[1;36m7\u001b[0m\u001b[1;33m]\u001b[0m\u001b[1;33m]\u001b[0m\u001b[1;33m)\u001b[0m\u001b[1;33m\u001b[0m\u001b[1;33m\u001b[0m\u001b[0m\n\u001b[0;32m      2\u001b[0m \u001b[0marr2\u001b[0m\u001b[1;33m=\u001b[0m\u001b[0mnp\u001b[0m\u001b[1;33m.\u001b[0m\u001b[0marray\u001b[0m\u001b[1;33m(\u001b[0m\u001b[1;33m[\u001b[0m\u001b[1;36m1\u001b[0m\u001b[1;33m,\u001b[0m\u001b[1;36m2\u001b[0m\u001b[1;33m]\u001b[0m\u001b[1;33m)\u001b[0m\u001b[1;33m\u001b[0m\u001b[1;33m\u001b[0m\u001b[0m\n\u001b[1;32m----> 3\u001b[1;33m \u001b[0marr3\u001b[0m\u001b[1;33m=\u001b[0m\u001b[0marr1\u001b[0m\u001b[1;33m*\u001b[0m\u001b[0marr2\u001b[0m\u001b[1;33m\u001b[0m\u001b[1;33m\u001b[0m\u001b[0m\n\u001b[0m\u001b[0;32m      4\u001b[0m \u001b[0marr3\u001b[0m\u001b[1;33m\u001b[0m\u001b[1;33m\u001b[0m\u001b[0m\n",
      "\u001b[1;31mValueError\u001b[0m: operands could not be broadcast together with shapes (2,4) (2,) "
     ]
    }
   ],
   "source": [
    "arr1=np.array([[1,2,3],[4,5,6]])\n",
    "arr2=np.array([1,2])\n",
    "arr3=arr1*arr2\n",
    "arr3\n",
    "#ab broadcasting nhe ho pae ge shapes match nhe krte par aga rsingle element hiota to ho jata\n"
   ]
  },
  {
   "cell_type": "code",
   "execution_count": 24,
   "metadata": {},
   "outputs": [
    {
     "data": {
      "text/plain": [
       "array([[1, 2, 3],\n",
       "       [4, 5, 6]])"
      ]
     },
     "execution_count": 24,
     "metadata": {},
     "output_type": "execute_result"
    }
   ],
   "source": [
    "arr1=np.array([[1,2,3],[4,5,6]])\n",
    "arr2=np.array([1])\n",
    "arr3=arr1*arr2\n",
    "arr3"
   ]
  },
  {
   "cell_type": "code",
   "execution_count": null,
   "metadata": {},
   "outputs": [],
   "source": [
    "#functional behaviour analysis krna he har function ka input ot output dekhna he wo kese behvae kr rraha he\n"
   ]
  },
  {
   "cell_type": "code",
   "execution_count": 47,
   "metadata": {},
   "outputs": [
    {
     "data": {
      "text/plain": [
       "[\"how dare you! you can't do that! Mr Ashhad focus\",\n",
       " \" Do you want a brak? or if you don't want, we can practice\"]"
      ]
     },
     "execution_count": 47,
     "metadata": {},
     "output_type": "execute_result"
    }
   ],
   "source": [
    "arr='how dare you! you can\\'t do that! Mr Ashhad focus. Do you want a brak? or if you don\\'t want, we can practice'\n",
    "l=arr.split('.')\n",
    "l\n"
   ]
  },
  {
   "cell_type": "code",
   "execution_count": 50,
   "metadata": {},
   "outputs": [
    {
     "data": {
      "text/plain": [
       "array([False,  True,  True, False])"
      ]
     },
     "execution_count": 50,
     "metadata": {},
     "output_type": "execute_result"
    }
   ],
   "source": [
    "#filter karne ke liye , true false me convert krne k liye\n",
    "l=np.array([-0.212,.12,.12,-.1211])\n",
    "l>0"
   ]
  },
  {
   "cell_type": "code",
   "execution_count": 75,
   "metadata": {},
   "outputs": [
    {
     "name": "stdout",
     "output_type": "stream",
     "text": [
      "['NumPy' 'is' 'a' 'library' 'for' 'the' 'Python' 'programming' 'language,'\n",
      " 'adding' 'support' 'for' 'large,' 'multi-dimensional' 'arrays' 'and'\n",
      " 'matrices,' 'along' 'with' 'a' 'large' 'collection' 'of' 'high-level'\n",
      " 'mathematical' 'functions' 'to' 'operate' 'on' 'these' 'arrays.']\n",
      "['library' 'Python' 'programming' 'language,' 'adding' 'support' 'large,'\n",
      " 'multi-dimensional' 'arrays' 'matrices,' 'collection' 'high-level'\n",
      " 'mathematical' 'functions' 'operate' 'arrays.']\n",
      "['library' 'Python' 'programming' 'language,' 'adding' 'support' 'large,'\n",
      " 'multi-dimensional' 'arrays' 'matrices,' 'collection' 'high-level'\n",
      " 'mathematical' 'functions' 'operate' 'arrays.']\n",
      "library\n",
      "Python\n",
      "programming\n",
      "language,\n",
      "adding\n",
      "support\n",
      "large,\n",
      "multi-dimensional\n",
      "arrays\n",
      "matrices,\n",
      "collection\n",
      "high-level\n",
      "mathematical\n",
      "functions\n",
      "operate\n",
      "arrays.\n"
     ]
    }
   ],
   "source": [
    "# agar hame array ke har elemnt par ko ifunction apply krna he to np.vectorize kre ge\n",
    "\n",
    "text='NumPy is a library for the Python programming language, adding support for large, multi-dimensional arrays and matrices, along with a large collection of high-level mathematical functions to operate on these arrays.'\n",
    "l=text.split(\" \")\n",
    "arr=np.array(text.split(\" \"))\n",
    "\n",
    "print(arr)\n",
    "lnth=np.vectorize(len)\n",
    "print(arr[lnth(arr)>5])\n",
    "print(arr[(np.vectorize(len))(arr)>5])\n",
    "\n",
    "for i in arr:\n",
    "    if len(i)>5:\n",
    "        print(i)\n"
   ]
  },
  {
   "cell_type": "code",
   "execution_count": 68,
   "metadata": {},
   "outputs": [
    {
     "name": "stdout",
     "output_type": "stream",
     "text": [
      "asd\n"
     ]
    }
   ],
   "source": [
    "variabl me function store ho sakta he\n",
    "prn=print\n",
    "prn('asd')"
   ]
  },
  {
   "cell_type": "code",
   "execution_count": 148,
   "metadata": {},
   "outputs": [
    {
     "name": "stdout",
     "output_type": "stream",
     "text": [
      "[45  1]\n"
     ]
    }
   ],
   "source": [
    "#fancy indexing\n",
    "arr5=np.array([-1,-1,45,6,8,9,1,11])\n",
    "arr5[[2,3]]\n",
    "s=[2,6,]\n",
    "print(arr5[s])"
   ]
  },
  {
   "cell_type": "code",
   "execution_count": 128,
   "metadata": {},
   "outputs": [
    {
     "data": {
      "text/plain": [
       "array([25000,     1, 25000,  1000,  5000])"
      ]
     },
     "execution_count": 128,
     "metadata": {},
     "output_type": "execute_result"
    }
   ],
   "source": [
    "salary=np.array([0,1,-1,1000,5000])\n",
    "np.where(salary<=0,25000,salary)"
   ]
  },
  {
   "cell_type": "code",
   "execution_count": 129,
   "metadata": {},
   "outputs": [
    {
     "data": {
      "text/plain": [
       "array([   0,    1,    0, 1000, 6000], dtype=int32)"
      ]
     },
     "execution_count": 129,
     "metadata": {},
     "output_type": "execute_result"
    }
   ],
   "source": [
    "salary.sum()\n",
    "salary.mean()\n",
    "salary.cumsum()"
   ]
  },
  {
   "cell_type": "code",
   "execution_count": 145,
   "metadata": {},
   "outputs": [
    {
     "name": "stdout",
     "output_type": "stream",
     "text": [
      "0\n",
      "0\n",
      "0\n",
      "False False\n",
      "False\n"
     ]
    }
   ],
   "source": [
    "arr6=arr5>10\n",
    "print(arr6.sum())\n",
    "print(np.sum(arr6))\n",
    "print(arr5.sum())\n",
    "print(arr5.any(),arr5.any())\n",
    "print(arr5.all())\n",
    "#np.all() check krtahe if all elements are true in np\n",
    "#np.any()\n"
   ]
  },
  {
   "cell_type": "code",
   "execution_count": 151,
   "metadata": {},
   "outputs": [
    {
     "name": "stdout",
     "output_type": "stream",
     "text": [
      "[-1 -1 45  6  8  9  1 11]\n"
     ]
    },
    {
     "data": {
      "text/plain": [
       "[1, 2, 3, 4]"
      ]
     },
     "execution_count": 151,
     "metadata": {},
     "output_type": "execute_result"
    }
   ],
   "source": [
    "#npz me multiple array aik file me save krsakte he\n",
    "np.savez('arrays.npz',a=arr5)\n",
    "arr7=np.load('arrays.npz')\n",
    "print(arr7['a'])\n",
    "dct={'a':[1,2,3,4]}\n",
    "arr8=dct['a']\n",
    "arr8"
   ]
  },
  {
   "cell_type": "code",
   "execution_count": 175,
   "metadata": {},
   "outputs": [
    {
     "data": {
      "text/plain": [
       "array([[1, 2, 3],\n",
       "       [4, 5, 6],\n",
       "       [1, 2, 3],\n",
       "       [4, 5, 6]])"
      ]
     },
     "execution_count": 175,
     "metadata": {},
     "output_type": "execute_result"
    }
   ],
   "source": [
    "#flatten 1d me convert krde ga\n",
    "a=np.array([[1,2,3],[4,5,6]])\n",
    "b=np.array([[1,2,3],[4,5,6]])\n",
    "c=np.concatenate([a,b],axis=0)\n",
    "c"
   ]
  },
  {
   "cell_type": "code",
   "execution_count": 176,
   "metadata": {},
   "outputs": [
    {
     "data": {
      "text/plain": [
       "array([[1, 2, 3, 1, 2, 3],\n",
       "       [4, 5, 6, 4, 5, 6]])"
      ]
     },
     "execution_count": 176,
     "metadata": {},
     "output_type": "execute_result"
    }
   ],
   "source": [
    "# vstack and hstack sawal aega\n",
    "np.hstack((a,b))"
   ]
  },
  {
   "cell_type": "raw",
   "metadata": {},
   "source": [
    "d=np.array([2,5,6,8,4,2,5,6])\n",
    "print(\"split : \", np.split(d,[1,5]))"
   ]
  },
  {
   "cell_type": "code",
   "execution_count": null,
   "metadata": {},
   "outputs": [],
   "source": []
  }
 ],
 "metadata": {
  "kernelspec": {
   "display_name": "Python 3",
   "language": "python",
   "name": "python3"
  },
  "language_info": {
   "codemirror_mode": {
    "name": "ipython",
    "version": 3
   },
   "file_extension": ".py",
   "mimetype": "text/x-python",
   "name": "python",
   "nbconvert_exporter": "python",
   "pygments_lexer": "ipython3",
   "version": "3.7.1"
  }
 },
 "nbformat": 4,
 "nbformat_minor": 2
}
